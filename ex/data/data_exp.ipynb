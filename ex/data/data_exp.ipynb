{
  "nbformat": 4,
  "nbformat_minor": 0,
  "metadata": {
    "colab": {
      "provenance": [],
      "mount_file_id": "142Ac-ljkMqELkuazzCiz70RGrIszjLMh",
      "authorship_tag": "ABX9TyNxQyEx6kJdb1tnrr6XxUAo",
      "include_colab_link": true
    },
    "kernelspec": {
      "name": "python3",
      "display_name": "Python 3"
    },
    "language_info": {
      "name": "python"
    }
  },
  "cells": [
    {
      "cell_type": "markdown",
      "metadata": {
        "id": "view-in-github",
        "colab_type": "text"
      },
      "source": [
        "<a href=\"https://colab.research.google.com/github/vsoos/DeepLearning/blob/main/ex/data/data_exp.ipynb\" target=\"_parent\"><img src=\"https://colab.research.google.com/assets/colab-badge.svg\" alt=\"Open In Colab\"/></a>"
      ]
    },
    {
      "cell_type": "code",
      "execution_count": 7,
      "metadata": {
        "id": "V2TYPhlzhVwW"
      },
      "outputs": [],
      "source": [
        "import pandas as pd\n",
        "import os"
      ]
    },
    {
      "cell_type": "code",
      "source": [
        "folder_path = \"/content/drive/MyDrive/deeplearning2024_VincenzinaSoos/ex_1/data\"\n",
        "os.chdir(folder_path)"
      ],
      "metadata": {
        "id": "OtV4BOsWiFfD"
      },
      "execution_count": 8,
      "outputs": []
    },
    {
      "cell_type": "code",
      "source": [
        "housing_df = pd.read_csv('housing.csv')\n",
        "homicide_df = pd.read_csv('homicide.csv', low_memory=False)\n",
        "china_gdp_df = pd.read_csv('china_gdp.csv')\n",
        "folds5x2_pp_df = pd.read_csv('Folds5x2_pp.csv')\n",
        "urban_bliss_df = pd.read_csv('urban_bliss_train.csv')"
      ],
      "metadata": {
        "id": "UHkMeVbGhXyg"
      },
      "execution_count": 15,
      "outputs": []
    },
    {
      "cell_type": "code",
      "source": [
        "print(\"housing.csv\")\n",
        "print(housing_df.head())\n",
        "print(housing_df.info())\n",
        "print(housing_df.columns)\n",
        "print(housing_df.dtypes)\n",
        "print(housing_df.shape)"
      ],
      "metadata": {
        "colab": {
          "base_uri": "https://localhost:8080/"
        },
        "id": "jBWr1cK8iR7S",
        "outputId": "ab4541eb-9919-4274-cfdd-5416d97e0d53"
      },
      "execution_count": 11,
      "outputs": [
        {
          "output_type": "stream",
          "name": "stdout",
          "text": [
            "housing.csv\n",
            "   longitude  latitude  housing_median_age  total_rooms  total_bedrooms  \\\n",
            "0    -122.23     37.88                41.0        880.0           129.0   \n",
            "1    -122.22     37.86                21.0       7099.0          1106.0   \n",
            "2    -122.24     37.85                52.0       1467.0           190.0   \n",
            "3    -122.25     37.85                52.0       1274.0           235.0   \n",
            "4    -122.25     37.85                52.0       1627.0           280.0   \n",
            "\n",
            "   population  households  median_income  median_house_value ocean_proximity  \n",
            "0       322.0       126.0         8.3252            452600.0        NEAR BAY  \n",
            "1      2401.0      1138.0         8.3014            358500.0        NEAR BAY  \n",
            "2       496.0       177.0         7.2574            352100.0        NEAR BAY  \n",
            "3       558.0       219.0         5.6431            341300.0        NEAR BAY  \n",
            "4       565.0       259.0         3.8462            342200.0        NEAR BAY  \n",
            "<class 'pandas.core.frame.DataFrame'>\n",
            "RangeIndex: 20640 entries, 0 to 20639\n",
            "Data columns (total 10 columns):\n",
            " #   Column              Non-Null Count  Dtype  \n",
            "---  ------              --------------  -----  \n",
            " 0   longitude           20640 non-null  float64\n",
            " 1   latitude            20640 non-null  float64\n",
            " 2   housing_median_age  20640 non-null  float64\n",
            " 3   total_rooms         20640 non-null  float64\n",
            " 4   total_bedrooms      20433 non-null  float64\n",
            " 5   population          20640 non-null  float64\n",
            " 6   households          20640 non-null  float64\n",
            " 7   median_income       20640 non-null  float64\n",
            " 8   median_house_value  20640 non-null  float64\n",
            " 9   ocean_proximity     20640 non-null  object \n",
            "dtypes: float64(9), object(1)\n",
            "memory usage: 1.6+ MB\n",
            "None\n",
            "Index(['longitude', 'latitude', 'housing_median_age', 'total_rooms',\n",
            "       'total_bedrooms', 'population', 'households', 'median_income',\n",
            "       'median_house_value', 'ocean_proximity'],\n",
            "      dtype='object')\n",
            "longitude             float64\n",
            "latitude              float64\n",
            "housing_median_age    float64\n",
            "total_rooms           float64\n",
            "total_bedrooms        float64\n",
            "population            float64\n",
            "households            float64\n",
            "median_income         float64\n",
            "median_house_value    float64\n",
            "ocean_proximity        object\n",
            "dtype: object\n",
            "(20640, 10)\n"
          ]
        }
      ]
    },
    {
      "cell_type": "code",
      "source": [
        "print(\"homicide.csv\")\n",
        "print(homicide_df.head())\n",
        "print(homicide_df.info())\n",
        "print(homicide_df.columns)\n",
        "print(homicide_df.dtypes)\n",
        "print(homicide_df.shape)"
      ],
      "metadata": {
        "colab": {
          "base_uri": "https://localhost:8080/"
        },
        "id": "9xep7DJtj1AV",
        "outputId": "4b086489-3ca0-4d0b-d88a-6ac6c1dfd840"
      },
      "execution_count": 16,
      "outputs": [
        {
          "output_type": "stream",
          "name": "stdout",
          "text": [
            "homicide.csv\n",
            "   Record ID Agency Code Agency Name       Agency Type       City   State  \\\n",
            "0          1     AK00101   Anchorage  Municipal Police  Anchorage  Alaska   \n",
            "1          2     AK00101   Anchorage  Municipal Police  Anchorage  Alaska   \n",
            "2          3     AK00101   Anchorage  Municipal Police  Anchorage  Alaska   \n",
            "3          4     AK00101   Anchorage  Municipal Police  Anchorage  Alaska   \n",
            "4          5     AK00101   Anchorage  Municipal Police  Anchorage  Alaska   \n",
            "\n",
            "   Year    Month  Incident              Crime Type  ... Victim Ethnicity  \\\n",
            "0  1980  January         1  Murder or Manslaughter  ...          Unknown   \n",
            "1  1980    March         1  Murder or Manslaughter  ...          Unknown   \n",
            "2  1980    March         2  Murder or Manslaughter  ...          Unknown   \n",
            "3  1980    April         1  Murder or Manslaughter  ...          Unknown   \n",
            "4  1980    April         2  Murder or Manslaughter  ...          Unknown   \n",
            "\n",
            "  Perpetrator Sex  Perpetrator Age               Perpetrator Race  \\\n",
            "0            Male               15  Native American/Alaska Native   \n",
            "1            Male               42                          White   \n",
            "2         Unknown                0                        Unknown   \n",
            "3            Male               42                          White   \n",
            "4         Unknown                0                        Unknown   \n",
            "\n",
            "  Perpetrator Ethnicity  Relationship         Weapon Victim Count  \\\n",
            "0               Unknown  Acquaintance   Blunt Object            0   \n",
            "1               Unknown  Acquaintance  Strangulation            0   \n",
            "2               Unknown       Unknown        Unknown            0   \n",
            "3               Unknown  Acquaintance  Strangulation            0   \n",
            "4               Unknown       Unknown        Unknown            0   \n",
            "\n",
            "  Perpetrator Count Record Source  \n",
            "0                 0           FBI  \n",
            "1                 0           FBI  \n",
            "2                 0           FBI  \n",
            "3                 0           FBI  \n",
            "4                 1           FBI  \n",
            "\n",
            "[5 rows x 24 columns]\n",
            "<class 'pandas.core.frame.DataFrame'>\n",
            "RangeIndex: 638454 entries, 0 to 638453\n",
            "Data columns (total 24 columns):\n",
            " #   Column                 Non-Null Count   Dtype \n",
            "---  ------                 --------------   ----- \n",
            " 0   Record ID              638454 non-null  int64 \n",
            " 1   Agency Code            638454 non-null  object\n",
            " 2   Agency Name            638454 non-null  object\n",
            " 3   Agency Type            638454 non-null  object\n",
            " 4   City                   638454 non-null  object\n",
            " 5   State                  638454 non-null  object\n",
            " 6   Year                   638454 non-null  int64 \n",
            " 7   Month                  638454 non-null  object\n",
            " 8   Incident               638454 non-null  int64 \n",
            " 9   Crime Type             638454 non-null  object\n",
            " 10  Crime Solved           638454 non-null  object\n",
            " 11  Victim Sex             638454 non-null  object\n",
            " 12  Victim Age             638454 non-null  int64 \n",
            " 13  Victim Race            638454 non-null  object\n",
            " 14  Victim Ethnicity       638454 non-null  object\n",
            " 15  Perpetrator Sex        638454 non-null  object\n",
            " 16  Perpetrator Age        638454 non-null  object\n",
            " 17  Perpetrator Race       638454 non-null  object\n",
            " 18  Perpetrator Ethnicity  638454 non-null  object\n",
            " 19  Relationship           638454 non-null  object\n",
            " 20  Weapon                 638454 non-null  object\n",
            " 21  Victim Count           638454 non-null  int64 \n",
            " 22  Perpetrator Count      638454 non-null  int64 \n",
            " 23  Record Source          638454 non-null  object\n",
            "dtypes: int64(6), object(18)\n",
            "memory usage: 116.9+ MB\n",
            "None\n",
            "Index(['Record ID', 'Agency Code', 'Agency Name', 'Agency Type', 'City',\n",
            "       'State', 'Year', 'Month', 'Incident', 'Crime Type', 'Crime Solved',\n",
            "       'Victim Sex', 'Victim Age', 'Victim Race', 'Victim Ethnicity',\n",
            "       'Perpetrator Sex', 'Perpetrator Age', 'Perpetrator Race',\n",
            "       'Perpetrator Ethnicity', 'Relationship', 'Weapon', 'Victim Count',\n",
            "       'Perpetrator Count', 'Record Source'],\n",
            "      dtype='object')\n",
            "Record ID                 int64\n",
            "Agency Code              object\n",
            "Agency Name              object\n",
            "Agency Type              object\n",
            "City                     object\n",
            "State                    object\n",
            "Year                      int64\n",
            "Month                    object\n",
            "Incident                  int64\n",
            "Crime Type               object\n",
            "Crime Solved             object\n",
            "Victim Sex               object\n",
            "Victim Age                int64\n",
            "Victim Race              object\n",
            "Victim Ethnicity         object\n",
            "Perpetrator Sex          object\n",
            "Perpetrator Age          object\n",
            "Perpetrator Race         object\n",
            "Perpetrator Ethnicity    object\n",
            "Relationship             object\n",
            "Weapon                   object\n",
            "Victim Count              int64\n",
            "Perpetrator Count         int64\n",
            "Record Source            object\n",
            "dtype: object\n",
            "(638454, 24)\n"
          ]
        }
      ]
    },
    {
      "cell_type": "code",
      "source": [
        "print(\"china_gdp.csv\")\n",
        "print(china_gdp_df.head())\n",
        "print(china_gdp_df.info())\n",
        "print(china_gdp_df.columns)\n",
        "print(china_gdp_df.dtypes)\n",
        "print(china_gdp_df.shape)"
      ],
      "metadata": {
        "colab": {
          "base_uri": "https://localhost:8080/"
        },
        "id": "ZS60l9IUj2g9",
        "outputId": "860266d8-4ac3-43ca-fca0-c7a418d475bf"
      },
      "execution_count": 17,
      "outputs": [
        {
          "output_type": "stream",
          "name": "stdout",
          "text": [
            "china_gdp.csv\n",
            "   Year         Value\n",
            "0  1960  5.918412e+10\n",
            "1  1961  4.955705e+10\n",
            "2  1962  4.668518e+10\n",
            "3  1963  5.009730e+10\n",
            "4  1964  5.906225e+10\n",
            "<class 'pandas.core.frame.DataFrame'>\n",
            "RangeIndex: 55 entries, 0 to 54\n",
            "Data columns (total 2 columns):\n",
            " #   Column  Non-Null Count  Dtype  \n",
            "---  ------  --------------  -----  \n",
            " 0   Year    55 non-null     int64  \n",
            " 1   Value   55 non-null     float64\n",
            "dtypes: float64(1), int64(1)\n",
            "memory usage: 1012.0 bytes\n",
            "None\n",
            "Index(['Year', 'Value'], dtype='object')\n",
            "Year       int64\n",
            "Value    float64\n",
            "dtype: object\n",
            "(55, 2)\n"
          ]
        }
      ]
    },
    {
      "cell_type": "code",
      "source": [
        "print(\"Folds5x2_pp.csv\")\n",
        "print(folds5x2_pp_df.head())\n",
        "print(folds5x2_pp_df.info())\n",
        "print(folds5x2_pp_df.columns)\n",
        "print(folds5x2_pp_df.dtypes)\n",
        "print(folds5x2_pp_df.shape)"
      ],
      "metadata": {
        "colab": {
          "base_uri": "https://localhost:8080/"
        },
        "id": "a8rqc8d5j3rC",
        "outputId": "d5fc3d2d-49a1-4b84-c067-c64b6c4b349d"
      },
      "execution_count": 18,
      "outputs": [
        {
          "output_type": "stream",
          "name": "stdout",
          "text": [
            "Folds5x2_pp.csv\n",
            "      AT      V       AP     RH      PE\n",
            "0   8.34  40.77  1010.84  90.01  480.48\n",
            "1  23.64  58.49  1011.40  74.20  445.75\n",
            "2  29.74  56.90  1007.15  41.91  438.76\n",
            "3  19.07  49.69  1007.22  76.79  453.09\n",
            "4  11.80  40.66  1017.13  97.20  464.43\n",
            "<class 'pandas.core.frame.DataFrame'>\n",
            "RangeIndex: 9568 entries, 0 to 9567\n",
            "Data columns (total 5 columns):\n",
            " #   Column  Non-Null Count  Dtype  \n",
            "---  ------  --------------  -----  \n",
            " 0   AT      9568 non-null   float64\n",
            " 1   V       9568 non-null   float64\n",
            " 2   AP      9568 non-null   float64\n",
            " 3   RH      9568 non-null   float64\n",
            " 4   PE      9568 non-null   float64\n",
            "dtypes: float64(5)\n",
            "memory usage: 373.9 KB\n",
            "None\n",
            "Index(['AT', 'V', 'AP', 'RH', 'PE'], dtype='object')\n",
            "AT    float64\n",
            "V     float64\n",
            "AP    float64\n",
            "RH    float64\n",
            "PE    float64\n",
            "dtype: object\n",
            "(9568, 5)\n"
          ]
        }
      ]
    },
    {
      "cell_type": "code",
      "source": [
        "print(\"urban_bliss_train.csv\")\n",
        "print(urban_bliss_df.head())\n",
        "print(urban_bliss_df.info())\n",
        "print(urban_bliss_df.columns)\n",
        "print(urban_bliss_df.dtypes)\n",
        "print(urban_bliss_df.shape)"
      ],
      "metadata": {
        "colab": {
          "base_uri": "https://localhost:8080/"
        },
        "id": "LTTkUZrcj4_h",
        "outputId": "2faadeaf-b73b-4f3e-8af4-844514020f63"
      },
      "execution_count": 19,
      "outputs": [
        {
          "output_type": "stream",
          "name": "stdout",
          "text": [
            "urban_bliss_train.csv\n",
            "          City    Month  Year  Decibel_Level Traffic_Density  \\\n",
            "0     New York  January  2024             70            High   \n",
            "1  Los Angeles  January  2024             65          Medium   \n",
            "2      Chicago  January  2024             60          Medium   \n",
            "3       London  January  2024             55            High   \n",
            "4        Paris  January  2024             60            High   \n",
            "\n",
            "   Green_Space_Area  Air_Quality_Index  Happiness_Score  Cost_of_Living_Index  \\\n",
            "0                35                 40              6.5                   100   \n",
            "1                40                 50              6.8                    90   \n",
            "2                30                 55              7.0                    85   \n",
            "3                50                 60              7.2                   110   \n",
            "4                45                 65              6.9                    95   \n",
            "\n",
            "   Healthcare_Index  \n",
            "0                80  \n",
            "1                75  \n",
            "2                70  \n",
            "3                85  \n",
            "4                80  \n",
            "<class 'pandas.core.frame.DataFrame'>\n",
            "RangeIndex: 545 entries, 0 to 544\n",
            "Data columns (total 10 columns):\n",
            " #   Column                Non-Null Count  Dtype  \n",
            "---  ------                --------------  -----  \n",
            " 0   City                  545 non-null    object \n",
            " 1   Month                 545 non-null    object \n",
            " 2   Year                  545 non-null    int64  \n",
            " 3   Decibel_Level         545 non-null    int64  \n",
            " 4   Traffic_Density       545 non-null    object \n",
            " 5   Green_Space_Area      545 non-null    int64  \n",
            " 6   Air_Quality_Index     545 non-null    int64  \n",
            " 7   Happiness_Score       545 non-null    float64\n",
            " 8   Cost_of_Living_Index  545 non-null    int64  \n",
            " 9   Healthcare_Index      545 non-null    int64  \n",
            "dtypes: float64(1), int64(6), object(3)\n",
            "memory usage: 42.7+ KB\n",
            "None\n",
            "Index(['City', 'Month', 'Year', 'Decibel_Level', 'Traffic_Density',\n",
            "       'Green_Space_Area', 'Air_Quality_Index', 'Happiness_Score',\n",
            "       'Cost_of_Living_Index', 'Healthcare_Index'],\n",
            "      dtype='object')\n",
            "City                     object\n",
            "Month                    object\n",
            "Year                      int64\n",
            "Decibel_Level             int64\n",
            "Traffic_Density          object\n",
            "Green_Space_Area          int64\n",
            "Air_Quality_Index         int64\n",
            "Happiness_Score         float64\n",
            "Cost_of_Living_Index      int64\n",
            "Healthcare_Index          int64\n",
            "dtype: object\n",
            "(545, 10)\n"
          ]
        }
      ]
    }
  ]
}